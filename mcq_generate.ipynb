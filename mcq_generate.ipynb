{
 "cells": [
  {
   "cell_type": "code",
   "execution_count": null,
   "metadata": {},
   "outputs": [],
   "source": [
    "# %pip install openai python-dotenv pandas"
   ]
  },
  {
   "cell_type": "code",
   "execution_count": 1,
   "metadata": {},
   "outputs": [],
   "source": [
    "from openai import OpenAI\n",
    "from dotenv import load_dotenv\n",
    "import json\n",
    "import pandas as pd\n",
    "from os import getenv"
   ]
  },
  {
   "cell_type": "code",
   "execution_count": 2,
   "metadata": {},
   "outputs": [
    {
     "data": {
      "text/plain": [
       "True"
      ]
     },
     "execution_count": 2,
     "metadata": {},
     "output_type": "execute_result"
    }
   ],
   "source": [
    "load_dotenv()"
   ]
  },
  {
   "cell_type": "code",
   "execution_count": 3,
   "metadata": {},
   "outputs": [],
   "source": [
    "# client = OpenAI(\n",
    "#   base_url=\"https://openrouter.ai/api/v1\",\n",
    "#   api_key=getenv(\"OPENROUTER_API_KEY\"),\n",
    "# )\n",
    "\n",
    "client = OpenAI()"
   ]
  },
  {
   "cell_type": "code",
   "execution_count": 4,
   "metadata": {},
   "outputs": [],
   "source": [
    "def generate_mcqs(context, assessment_los, num_questions=30):\n",
    "    \"\"\"\n",
    "    Generate MCQs from a given context using an LLM.\n",
    "    \"\"\"\n",
    "    prompt = f\"\"\"\n",
    "    You are a master computer science educator that is proficient in teaching students and \n",
    "    creatting multiple-choice questions (MCQs) assessment that assesses their \n",
    "    understanding of given topics and achieves the learning outcomes of the assessment.\n",
    "    Generate {num_questions} MCQs based on the following context which includes a list of topics covered in a Python programming course, \n",
    "    and the learning outcomes of the assessment.\n",
    "    Each question should have 4 options, with one correct answer and three distractors.\n",
    "    Please ensure the questions are relevant, clear, and cover key aspects of the context.\n",
    "    The questions should be in a variety of difficulty levels (i.e. easy, medium, hard).\n",
    "    \n",
    "    Context: {context}\n",
    "    Assessment learning outcomes: {assessment_los}\n",
    "    \n",
    "    Format each question strictly as follows:\n",
    "    Q1. [Question text]\n",
    "    A) [Option 1]\n",
    "    B) [Option 2]\n",
    "    C) [Option 3]\n",
    "    D) [Option 4]\n",
    "    Correct Answer: [Correct Option]\n",
    "    Difficulty: [Difficulty Level]\n",
    "    \n",
    "    \n",
    "    Your answer striclty must be Q1, Q2, Q3, and so on. Nothing extra, don't write any markdown in your response.\n",
    "   \n",
    "    \"\"\"\n",
    "    \n",
    "    response = client.chat.completions.create(\n",
    "        model=\"gpt-4o-2024-11-20\",\n",
    "        messages=[\n",
    "            # {\"role\": \"system\", \"content\": \"You are a helpful assistant that generates multiple-choice questions.\"},\n",
    "            {\"role\": \"user\", \"content\": prompt}\n",
    "        ]\n",
    "    )\n",
    "    \n",
    "    mcqs = response.choices[0].message.content\n",
    "    return mcqs"
   ]
  },
  {
   "cell_type": "code",
   "execution_count": 5,
   "metadata": {},
   "outputs": [],
   "source": [
    "# Read the context from a text file \n",
    "context = \"\"\n",
    "with open(\"content.txt\", \"r\") as f:\n",
    "    context = f.read()\n",
    "    \n",
    "# print(context)"
   ]
  },
  {
   "cell_type": "code",
   "execution_count": 6,
   "metadata": {},
   "outputs": [],
   "source": [
    "# Read the learning outcomes from a text file \n",
    "assessment_los = \"\"\n",
    "with open(\"A1_los.txt\", \"r\") as f:\n",
    "    assessment_los = f.read()\n",
    "    \n",
    "# print(assessment_los)"
   ]
  },
  {
   "cell_type": "code",
   "execution_count": 7,
   "metadata": {},
   "outputs": [],
   "source": [
    "mcqs = generate_mcqs(context, assessment_los)"
   ]
  },
  {
   "cell_type": "code",
   "execution_count": 8,
   "metadata": {},
   "outputs": [
    {
     "data": {
      "text/plain": [
       "'Q1. What is the first step in the six-step problem-solving process?  \\nA) Analyse the problem  \\nB) Identify the problem  \\nC) Implement the solution  \\nD) Generate potential solutions  \\nCorrect Answer: B  \\nDifficulty: Easy  \\n\\nQ2. Which of the following best defines wicked problems?  \\nA) Problems that have simple solutions.  \\nB) Problems that occur regularly and are easy to solve.  \\nC) Problems difficult to define, with no clear solutions.  \\nD) Problems that always have one correct answer.  \\nCorrect Answer: C  \\nDifficulty: Medium  \\n\\nQ3. Which programming construct is used to repeatedly execute a block of code while a condition is true?  \\nA) for loop  \\nB) while loop  \\nC) if statement  \\nD) elif statement  \\nCorrect Answer: B  \\nDifficulty: Easy  \\n\\nQ4. What does the Python function `type()` do?  \\nA) Converts a variable into a different type.  \\nB) Checks the size of the variable.  \\nC) Returns the data type of a variable.  \\nD) Assigns a type to the variable.  \\nCorrect Answer: C  \\nDifficulty: Easy  \\n\\nQ5. Which operator has the highest precedence in Python?  \\nA) Addition `+`  \\nB) Parentheses `()`  \\nC) Multiplication `*`  \\nD) Division `/`  \\nCorrect Answer: B  \\nDifficulty: Easy  \\n\\nQ6. What does the `input()` function return?  \\nA) Integer  \\nB) Float  \\nC) String  \\nD) Boolean  \\nCorrect Answer: C  \\nDifficulty: Easy  \\n\\nQ7. In Python, how can a string be enclosed to be defined correctly?  \\nA) Single quotes (\\'), double quotes (\"), or triple quotes (\"\"\" \"\"\").  \\nB) Only single quotes (\\' \\').  \\nC) Only double quotes (\" \").  \\nD) Only triple quotes (\"\"\" \"\"\").  \\nCorrect Answer: A  \\nDifficulty: Easy  \\n\\nQ8. Why is Python considered a strongly typed language?  \\nA) Variables must have a pre-defined type.  \\nB) Variables have a type, and the type matters during operations.  \\nC) Python doesn\\'t allow type checking.  \\nD) Python doesn\\'t support reassigning variables.  \\nCorrect Answer: B  \\nDifficulty: Medium  \\n\\nQ9. What will the output of the following code be?  \\n```Python  \\nnum = 10 // 3  \\nprint(num)  \\n```  \\nA) 3.33  \\nB) 3  \\nC) 3.0  \\nD) Error  \\nCorrect Answer: B  \\nDifficulty: Medium  \\n\\nQ10. Which mode is used to open an existing file for appending at the end?  \\nA) w  \\nB) r+  \\nC) a  \\nD) w+  \\nCorrect Answer: C  \\nDifficulty: Medium  \\n\\nQ11. Which Python keyword is used to terminate a loop prematurely?  \\nA) continue  \\nB) break  \\nC) pass  \\nD) return  \\nCorrect Answer: B  \\nDifficulty: Easy  \\n\\nQ12. In the context of Python lists, what does the method `.append()` do?  \\nA) Removes an item from the list.  \\nB) Adds an item to the beginning of the list.  \\nC) Adds an item to the end of the list.  \\nD) Inserts an item at a specific position.  \\nCorrect Answer: C  \\nDifficulty: Easy  \\n\\nQ13. What is the result of the following Python statement?  \\n```Python  \\n\"Hello\" * 3  \\n```  \\nA) \"HelloHelloHello\"  \\nB) \"Hello 3\"  \\nC) Error  \\nD) \"Hello+Hello+Hello\"  \\nCorrect Answer: A  \\nDifficulty: Easy  \\n\\nQ14. Which Python statement can be used to iterate over items in a sequence?  \\nA) if  \\nB) for  \\nC) while  \\nD) elif  \\nCorrect Answer: B  \\nDifficulty: Easy  \\n\\nQ15. What will the following code print?  \\n```Python  \\nnumber = 5  \\nif number != 5:  \\n    print(\"Not Five\")  \\nelse:  \\n    print(\"Five\")  \\n```  \\nA) Not Five  \\nB) Five  \\nC) Error: Syntax Issue  \\nD) Nothing  \\nCorrect Answer: B  \\nDifficulty: Easy  \\n\\nQ16. What does `len()` function do in Python?  \\nA) Finds the size of integers.  \\nB) Determines the length of sequences.  \\nC) Deletes an element of a sequence.  \\nD) Multiplies strings by a given number.  \\nCorrect Answer: B  \\nDifficulty: Easy  \\n\\nQ17. Which of the following is an immutable data structure in Python?  \\nA) Lists  \\nB) Strings  \\nC) Dictionaries  \\nD) Tuples  \\nCorrect Answer: D  \\nDifficulty: Medium  \\n\\nQ18. Which best describes the main advantage of tuples over lists?  \\nA) Tuples are faster and immutable.  \\nB) Tuples support more features than lists.  \\nC) Tuples can only contain strings.  \\nD) Tuples cannot store multiple data types.  \\nCorrect Answer: A  \\nDifficulty: Medium  \\n\\nQ19. How do you create a comment in Python?  \\nA) /* comment */  \\nB) # comment  \\nC) // comment  \\nD) <!-- comment -->  \\nCorrect Answer: B  \\nDifficulty: Easy  \\n\\nQ20. What will the following code snippet return?  \\n```Python  \\n\"isalpha\".isalpha()  \\n```  \\nA) True  \\nB) False  \\nC) Error  \\nD) None  \\nCorrect Answer: A  \\nDifficulty: Medium  \\n\\nQ21. If a file is opened using the `w` mode, what will happen if the file already exists?  \\nA) Raise an error.  \\nB) Add content to the end of the existing file.  \\nC) Overwrite the file’s content.  \\nD) Open the file without modification.  \\nCorrect Answer: C  \\nDifficulty: Medium  \\n\\nQ22. What is the result of the Python expression `\"Python\"[0:4]`?  \\nA) \"Py\"  \\nB) \"Pyth\"  \\nC) \"Python\"  \\nD) \"Pyto\"  \\nCorrect Answer: B  \\nDifficulty: Medium  \\n\\nQ23. What does the following line of code do?  \\n```Python  \\nfile = open(\"example.txt\", \"r\")  \\n```  \\nA) Creates a new file named \"example.txt\".  \\nB) Opens the file \"example.txt\" for reading.  \\nC) Writes data to the file \"example.txt\".  \\nD) Appends data to the file \"example.txt\".  \\nCorrect Answer: B  \\nDifficulty: Medium  \\n\\nQ24. How do you convert a string `\"42\"` to an integer in Python?  \\nA) int(42)  \\nB) str(42)  \\nC) int(\"42\")  \\nD) str(\"42\")  \\nCorrect Answer: C  \\nDifficulty: Easy  \\n\\nQ25. What will the following line print?  \\n```Python  \\nprint(list(range(5, 10, 2)))  \\n```  \\nA) [5, 7, 9]  \\nB) [6, 8, 10]  \\nC) Error  \\nD) [5, 6, 7, 8, 9, 10]  \\nCorrect Answer: A  \\nDifficulty: Medium  \\n\\nQ26. What is the purpose of the `find()` method in strings?  \\nA) To find data in a file.  \\nB) To locate the index of a substring within a string.  \\nC) To split a string.  \\nD) To replace part of a string.  \\nCorrect Answer: B  \\nDifficulty: Medium  \\n\\nQ27. Why might you use a \"do-while\" equivalent loop in Python?  \\nA) To ensure the loop executes once before the condition is checked.  \\nB) To create an infinite loop.  \\nC) To handle unexpected errors.  \\nD) To replace an `if` statement.  \\nCorrect Answer: A  \\nDifficulty: Medium  \\n\\nQ28. Which access mode should you use to write data without overwriting existing content in a file?  \\nA) r  \\nB) w  \\nC) a  \\nD) r+  \\nCorrect Answer: C  \\nDifficulty: Medium  \\n\\nQ29. What will the statement `beatles[2]` return if `beatles = [\"John\", \"Paul\", \"George\", \"Ringo\"]`?  \\nA) \"John\"  \\nB) \"Paul\"  \\nC) \"George\"  \\nD) \"Ringo\"  \\nCorrect Answer: C  \\nDifficulty: Easy  \\n\\nQ30. Why should we use mnemonic variable names in programming?  \\nA) To make the code run faster.  \\nB) To reduce the amount of memory used.  \\nC) To improve code readability and maintainability.  \\nD) To reduce the size of variable names.  \\nCorrect Answer: C  \\nDifficulty: Easy  '"
      ]
     },
     "execution_count": 8,
     "metadata": {},
     "output_type": "execute_result"
    }
   ],
   "source": [
    "mcqs"
   ]
  },
  {
   "cell_type": "code",
   "execution_count": 9,
   "metadata": {},
   "outputs": [
    {
     "data": {
      "text/plain": [
       "['Q1. What is the first step in the six-step problem-solving process?  \\nA) Analyse the problem  \\nB) Identify the problem  \\nC) Implement the solution  \\nD) Generate potential solutions  \\nCorrect Answer: B  \\nDifficulty: Easy  ',\n",
       " 'Q2. Which of the following best defines wicked problems?  \\nA) Problems that have simple solutions.  \\nB) Problems that occur regularly and are easy to solve.  \\nC) Problems difficult to define, with no clear solutions.  \\nD) Problems that always have one correct answer.  \\nCorrect Answer: C  \\nDifficulty: Medium  ',\n",
       " 'Q3. Which programming construct is used to repeatedly execute a block of code while a condition is true?  \\nA) for loop  \\nB) while loop  \\nC) if statement  \\nD) elif statement  \\nCorrect Answer: B  \\nDifficulty: Easy  ',\n",
       " 'Q4. What does the Python function `type()` do?  \\nA) Converts a variable into a different type.  \\nB) Checks the size of the variable.  \\nC) Returns the data type of a variable.  \\nD) Assigns a type to the variable.  \\nCorrect Answer: C  \\nDifficulty: Easy  ',\n",
       " 'Q5. Which operator has the highest precedence in Python?  \\nA) Addition `+`  \\nB) Parentheses `()`  \\nC) Multiplication `*`  \\nD) Division `/`  \\nCorrect Answer: B  \\nDifficulty: Easy  ',\n",
       " 'Q6. What does the `input()` function return?  \\nA) Integer  \\nB) Float  \\nC) String  \\nD) Boolean  \\nCorrect Answer: C  \\nDifficulty: Easy  ',\n",
       " 'Q7. In Python, how can a string be enclosed to be defined correctly?  \\nA) Single quotes (\\'), double quotes (\"), or triple quotes (\"\"\" \"\"\").  \\nB) Only single quotes (\\' \\').  \\nC) Only double quotes (\" \").  \\nD) Only triple quotes (\"\"\" \"\"\").  \\nCorrect Answer: A  \\nDifficulty: Easy  ',\n",
       " \"Q8. Why is Python considered a strongly typed language?  \\nA) Variables must have a pre-defined type.  \\nB) Variables have a type, and the type matters during operations.  \\nC) Python doesn't allow type checking.  \\nD) Python doesn't support reassigning variables.  \\nCorrect Answer: B  \\nDifficulty: Medium  \",\n",
       " 'Q9. What will the output of the following code be?  \\n```Python  \\nnum = 10 // 3  \\nprint(num)  \\n```  \\nA) 3.33  \\nB) 3  \\nC) 3.0  \\nD) Error  \\nCorrect Answer: B  \\nDifficulty: Medium  ',\n",
       " 'Q10. Which mode is used to open an existing file for appending at the end?  \\nA) w  \\nB) r+  \\nC) a  \\nD) w+  \\nCorrect Answer: C  \\nDifficulty: Medium  ',\n",
       " 'Q11. Which Python keyword is used to terminate a loop prematurely?  \\nA) continue  \\nB) break  \\nC) pass  \\nD) return  \\nCorrect Answer: B  \\nDifficulty: Easy  ',\n",
       " 'Q12. In the context of Python lists, what does the method `.append()` do?  \\nA) Removes an item from the list.  \\nB) Adds an item to the beginning of the list.  \\nC) Adds an item to the end of the list.  \\nD) Inserts an item at a specific position.  \\nCorrect Answer: C  \\nDifficulty: Easy  ',\n",
       " 'Q13. What is the result of the following Python statement?  \\n```Python  \\n\"Hello\" * 3  \\n```  \\nA) \"HelloHelloHello\"  \\nB) \"Hello 3\"  \\nC) Error  \\nD) \"Hello+Hello+Hello\"  \\nCorrect Answer: A  \\nDifficulty: Easy  ',\n",
       " 'Q14. Which Python statement can be used to iterate over items in a sequence?  \\nA) if  \\nB) for  \\nC) while  \\nD) elif  \\nCorrect Answer: B  \\nDifficulty: Easy  ',\n",
       " 'Q15. What will the following code print?  \\n```Python  \\nnumber = 5  \\nif number != 5:  \\n    print(\"Not Five\")  \\nelse:  \\n    print(\"Five\")  \\n```  \\nA) Not Five  \\nB) Five  \\nC) Error: Syntax Issue  \\nD) Nothing  \\nCorrect Answer: B  \\nDifficulty: Easy  ',\n",
       " 'Q16. What does `len()` function do in Python?  \\nA) Finds the size of integers.  \\nB) Determines the length of sequences.  \\nC) Deletes an element of a sequence.  \\nD) Multiplies strings by a given number.  \\nCorrect Answer: B  \\nDifficulty: Easy  ',\n",
       " 'Q17. Which of the following is an immutable data structure in Python?  \\nA) Lists  \\nB) Strings  \\nC) Dictionaries  \\nD) Tuples  \\nCorrect Answer: D  \\nDifficulty: Medium  ',\n",
       " 'Q18. Which best describes the main advantage of tuples over lists?  \\nA) Tuples are faster and immutable.  \\nB) Tuples support more features than lists.  \\nC) Tuples can only contain strings.  \\nD) Tuples cannot store multiple data types.  \\nCorrect Answer: A  \\nDifficulty: Medium  ',\n",
       " 'Q19. How do you create a comment in Python?  \\nA) /* comment */  \\nB) # comment  \\nC) // comment  \\nD) <!-- comment -->  \\nCorrect Answer: B  \\nDifficulty: Easy  ',\n",
       " 'Q20. What will the following code snippet return?  \\n```Python  \\n\"isalpha\".isalpha()  \\n```  \\nA) True  \\nB) False  \\nC) Error  \\nD) None  \\nCorrect Answer: A  \\nDifficulty: Medium  ',\n",
       " 'Q21. If a file is opened using the `w` mode, what will happen if the file already exists?  \\nA) Raise an error.  \\nB) Add content to the end of the existing file.  \\nC) Overwrite the file’s content.  \\nD) Open the file without modification.  \\nCorrect Answer: C  \\nDifficulty: Medium  ',\n",
       " 'Q22. What is the result of the Python expression `\"Python\"[0:4]`?  \\nA) \"Py\"  \\nB) \"Pyth\"  \\nC) \"Python\"  \\nD) \"Pyto\"  \\nCorrect Answer: B  \\nDifficulty: Medium  ',\n",
       " 'Q23. What does the following line of code do?  \\n```Python  \\nfile = open(\"example.txt\", \"r\")  \\n```  \\nA) Creates a new file named \"example.txt\".  \\nB) Opens the file \"example.txt\" for reading.  \\nC) Writes data to the file \"example.txt\".  \\nD) Appends data to the file \"example.txt\".  \\nCorrect Answer: B  \\nDifficulty: Medium  ',\n",
       " 'Q24. How do you convert a string `\"42\"` to an integer in Python?  \\nA) int(42)  \\nB) str(42)  \\nC) int(\"42\")  \\nD) str(\"42\")  \\nCorrect Answer: C  \\nDifficulty: Easy  ',\n",
       " 'Q25. What will the following line print?  \\n```Python  \\nprint(list(range(5, 10, 2)))  \\n```  \\nA) [5, 7, 9]  \\nB) [6, 8, 10]  \\nC) Error  \\nD) [5, 6, 7, 8, 9, 10]  \\nCorrect Answer: A  \\nDifficulty: Medium  ',\n",
       " 'Q26. What is the purpose of the `find()` method in strings?  \\nA) To find data in a file.  \\nB) To locate the index of a substring within a string.  \\nC) To split a string.  \\nD) To replace part of a string.  \\nCorrect Answer: B  \\nDifficulty: Medium  ',\n",
       " 'Q27. Why might you use a \"do-while\" equivalent loop in Python?  \\nA) To ensure the loop executes once before the condition is checked.  \\nB) To create an infinite loop.  \\nC) To handle unexpected errors.  \\nD) To replace an `if` statement.  \\nCorrect Answer: A  \\nDifficulty: Medium  ',\n",
       " 'Q28. Which access mode should you use to write data without overwriting existing content in a file?  \\nA) r  \\nB) w  \\nC) a  \\nD) r+  \\nCorrect Answer: C  \\nDifficulty: Medium  ',\n",
       " 'Q29. What will the statement `beatles[2]` return if `beatles = [\"John\", \"Paul\", \"George\", \"Ringo\"]`?  \\nA) \"John\"  \\nB) \"Paul\"  \\nC) \"George\"  \\nD) \"Ringo\"  \\nCorrect Answer: C  \\nDifficulty: Easy  ',\n",
       " 'Q30. Why should we use mnemonic variable names in programming?  \\nA) To make the code run faster.  \\nB) To reduce the amount of memory used.  \\nC) To improve code readability and maintainability.  \\nD) To reduce the size of variable names.  \\nCorrect Answer: C  \\nDifficulty: Easy  ']"
      ]
     },
     "execution_count": 9,
     "metadata": {},
     "output_type": "execute_result"
    }
   ],
   "source": [
    "mcqs = mcqs.split(\"\\n\\n\")\n",
    "# mcqs.pop(0)\n",
    "mcqs"
   ]
  },
  {
   "cell_type": "code",
   "execution_count": 16,
   "metadata": {},
   "outputs": [],
   "source": [
    "# Save MCQs to a text file\n",
    "with open(\"generated_mcqs.txt\", \"w\") as f:\n",
    "    for mcq in mcqs:\n",
    "        f.write(f\"{mcq}\\n\\n\")"
   ]
  },
  {
   "cell_type": "code",
   "execution_count": 17,
   "metadata": {},
   "outputs": [],
   "source": [
    "\n",
    "# Read MCQs back from the text file\n",
    "with open(\"generated_mcqs.txt\", \"r\") as f:\n",
    "    mcqs_read = f.read().split(\"\\n\\n\")\n",
    "    # Remove empty strings\n",
    "    mcqs_read = [mcq for mcq in mcqs_read if mcq]"
   ]
  },
  {
   "cell_type": "code",
   "execution_count": 19,
   "metadata": {},
   "outputs": [],
   "source": [
    "# mcqs_read"
   ]
  },
  {
   "cell_type": "code",
   "execution_count": 14,
   "metadata": {},
   "outputs": [
    {
     "data": {
      "text/html": [
       "<div>\n",
       "<style scoped>\n",
       "    .dataframe tbody tr th:only-of-type {\n",
       "        vertical-align: middle;\n",
       "    }\n",
       "\n",
       "    .dataframe tbody tr th {\n",
       "        vertical-align: top;\n",
       "    }\n",
       "\n",
       "    .dataframe thead th {\n",
       "        text-align: right;\n",
       "    }\n",
       "</style>\n",
       "<table border=\"1\" class=\"dataframe\">\n",
       "  <thead>\n",
       "    <tr style=\"text-align: right;\">\n",
       "      <th></th>\n",
       "      <th>Question</th>\n",
       "      <th>Option A</th>\n",
       "      <th>Option B</th>\n",
       "      <th>Option C</th>\n",
       "      <th>Option D</th>\n",
       "      <th>Correct Answer</th>\n",
       "      <th>Difficulty</th>\n",
       "    </tr>\n",
       "  </thead>\n",
       "  <tbody>\n",
       "    <tr>\n",
       "      <th>0</th>\n",
       "      <td>Q1. What is the first step in the six-step pro...</td>\n",
       "      <td>A) Analyse the problem</td>\n",
       "      <td>B) Identify the problem</td>\n",
       "      <td>C) Implement the solution</td>\n",
       "      <td>D) Generate potential solutions</td>\n",
       "      <td>B</td>\n",
       "      <td>Easy</td>\n",
       "    </tr>\n",
       "    <tr>\n",
       "      <th>1</th>\n",
       "      <td>Q2. Which of the following best defines wicked...</td>\n",
       "      <td>A) Problems that have simple solutions.</td>\n",
       "      <td>B) Problems that occur regularly and are easy ...</td>\n",
       "      <td>C) Problems difficult to define, with no clear...</td>\n",
       "      <td>D) Problems that always have one correct answer.</td>\n",
       "      <td>C</td>\n",
       "      <td>Medium</td>\n",
       "    </tr>\n",
       "    <tr>\n",
       "      <th>2</th>\n",
       "      <td>Q3. Which programming construct is used to rep...</td>\n",
       "      <td>A) for loop</td>\n",
       "      <td>B) while loop</td>\n",
       "      <td>C) if statement</td>\n",
       "      <td>D) elif statement</td>\n",
       "      <td>B</td>\n",
       "      <td>Easy</td>\n",
       "    </tr>\n",
       "    <tr>\n",
       "      <th>3</th>\n",
       "      <td>Q4. What does the Python function `type()` do?</td>\n",
       "      <td>A) Converts a variable into a different type.</td>\n",
       "      <td>B) Checks the size of the variable.</td>\n",
       "      <td>C) Returns the data type of a variable.</td>\n",
       "      <td>D) Assigns a type to the variable.</td>\n",
       "      <td>C</td>\n",
       "      <td>Easy</td>\n",
       "    </tr>\n",
       "    <tr>\n",
       "      <th>4</th>\n",
       "      <td>Q5. Which operator has the highest precedence ...</td>\n",
       "      <td>A) Addition `+`</td>\n",
       "      <td>B) Parentheses `()`</td>\n",
       "      <td>C) Multiplication `*`</td>\n",
       "      <td>D) Division `/`</td>\n",
       "      <td>B</td>\n",
       "      <td>Easy</td>\n",
       "    </tr>\n",
       "  </tbody>\n",
       "</table>\n",
       "</div>"
      ],
      "text/plain": [
       "                                            Question  \\\n",
       "0  Q1. What is the first step in the six-step pro...   \n",
       "1  Q2. Which of the following best defines wicked...   \n",
       "2  Q3. Which programming construct is used to rep...   \n",
       "3     Q4. What does the Python function `type()` do?   \n",
       "4  Q5. Which operator has the highest precedence ...   \n",
       "\n",
       "                                        Option A  \\\n",
       "0                         A) Analyse the problem   \n",
       "1        A) Problems that have simple solutions.   \n",
       "2                                    A) for loop   \n",
       "3  A) Converts a variable into a different type.   \n",
       "4                                A) Addition `+`   \n",
       "\n",
       "                                            Option B  \\\n",
       "0                            B) Identify the problem   \n",
       "1  B) Problems that occur regularly and are easy ...   \n",
       "2                                      B) while loop   \n",
       "3                B) Checks the size of the variable.   \n",
       "4                                B) Parentheses `()`   \n",
       "\n",
       "                                            Option C  \\\n",
       "0                          C) Implement the solution   \n",
       "1  C) Problems difficult to define, with no clear...   \n",
       "2                                    C) if statement   \n",
       "3            C) Returns the data type of a variable.   \n",
       "4                              C) Multiplication `*`   \n",
       "\n",
       "                                           Option D Correct Answer Difficulty  \n",
       "0                   D) Generate potential solutions              B       Easy  \n",
       "1  D) Problems that always have one correct answer.              C     Medium  \n",
       "2                                 D) elif statement              B       Easy  \n",
       "3                D) Assigns a type to the variable.              C       Easy  \n",
       "4                                   D) Division `/`              B       Easy  "
      ]
     },
     "execution_count": 14,
     "metadata": {},
     "output_type": "execute_result"
    }
   ],
   "source": [
    "def parse_mcqs(mcqs_list):\n",
    "    parsed_data = []\n",
    "    for mcq in mcqs_list:\n",
    "        lines = mcq.strip().split('\\n')\n",
    "        if len(lines) < 6:  # Basic validation\n",
    "            continue\n",
    "            \n",
    "        question = lines[0].strip()\n",
    "        options = [lines[i].strip() for i in range(1, 5)]\n",
    "        \n",
    "        # Extract correct answer and difficulty\n",
    "        correct_answer = \"\"\n",
    "        difficulty = \"\"\n",
    "        for i in range(5, len(lines)):\n",
    "            if \"Correct Answer:\" in lines[i]:\n",
    "                correct_answer = lines[i].split(\"Correct Answer:\")[1].strip()\n",
    "            elif \"Difficulty:\" in lines[i]:\n",
    "                difficulty = lines[i].split(\"Difficulty:\")[1].strip()\n",
    "        \n",
    "        parsed_data.append({\n",
    "            'Question': question,\n",
    "            'Option A': options[0],\n",
    "            'Option B': options[1],\n",
    "            'Option C': options[2],\n",
    "            'Option D': options[3],\n",
    "            'Correct Answer': correct_answer,\n",
    "            'Difficulty': difficulty\n",
    "        })\n",
    "    \n",
    "    # Create DataFrame and save to CSV\n",
    "    df = pd.DataFrame(parsed_data)\n",
    "    df.to_csv('parsed_mcqs.csv', index=False)\n",
    "    return df\n",
    "\n",
    "parsed_mcqs = parse_mcqs(mcqs)\n",
    "parsed_mcqs.head()\n"
   ]
  },
  {
   "cell_type": "code",
   "execution_count": 20,
   "metadata": {},
   "outputs": [],
   "source": [
    "# print(mcqs[3])"
   ]
  },
  {
   "cell_type": "code",
   "execution_count": null,
   "metadata": {},
   "outputs": [],
   "source": []
  }
 ],
 "metadata": {
  "kernelspec": {
   "display_name": "torch",
   "language": "python",
   "name": "python3"
  },
  "language_info": {
   "codemirror_mode": {
    "name": "ipython",
    "version": 3
   },
   "file_extension": ".py",
   "mimetype": "text/x-python",
   "name": "python",
   "nbconvert_exporter": "python",
   "pygments_lexer": "ipython3",
   "version": "3.11.7"
  }
 },
 "nbformat": 4,
 "nbformat_minor": 2
}
